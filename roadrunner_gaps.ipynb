{
 "cells": [
  {
   "cell_type": "code",
   "execution_count": null,
   "metadata": {
    "collapsed": false
   },
   "outputs": [],
   "source": [
    "import tellurium as te\n",
    "from urllib.request import urlopen\n",
    "%matplotlib inline"
   ]
  },
  {
   "cell_type": "markdown",
   "metadata": {},
   "source": [
    "# Roadrunner Methoden"
   ]
  },
  {
   "cell_type": "markdown",
   "metadata": {},
   "source": [
    "## Query an antimony model from model db's:\n",
    "Load the \"Repressilator\". Therefore use urlopen() and the methods read().decode('utf-8').\n",
    "\n",
    "The URL for the repressilator reads:\n",
    "http://antimony.sourceforge.net/examples/biomodels/BIOMD0000000012.txt\n",
    "\n",
    "*Elowitz, M. B., & Leibler, S. (2000). A synthetic oscillatory network of transcriptional regulators. Nature, 403(6767), 335-338.*"
   ]
  },
  {
   "cell_type": "code",
   "execution_count": null,
   "metadata": {
    "collapsed": false
   },
   "outputs": [],
   "source": [
    "Repressilator = urlopen('http://antimony.sourceforge.net/examples/biomodels/BIOMD0000000012.txt').read().decode('utf-8')\n",
    "print(Repressilator)"
   ]
  },
  {
   "cell_type": "markdown",
   "metadata": {},
   "source": [
    "By loading a model you similarly generate a roadrunner object. Use loada() from tellurium."
   ]
  },
  {
   "cell_type": "code",
   "execution_count": null,
   "metadata": {
    "collapsed": false
   },
   "outputs": [],
   "source": []
  },
  {
   "cell_type": "markdown",
   "metadata": {},
   "source": [
    "The following section illustrates several methods of roadrunner.\n",
    "For example you can print a model in different formats such as antimony or SBML. For this use getAntimony() or getSBML()."
   ]
  },
  {
   "cell_type": "code",
   "execution_count": null,
   "metadata": {
    "collapsed": false,
    "scrolled": true
   },
   "outputs": [],
   "source": []
  },
  {
   "cell_type": "code",
   "execution_count": null,
   "metadata": {
    "collapsed": true
   },
   "outputs": [],
   "source": []
  },
  {
   "cell_type": "markdown",
   "metadata": {},
   "source": [
    "## Solver Methoden"
   ]
  },
  {
   "cell_type": "markdown",
   "metadata": {},
   "source": [
    "Attention: resetToOrigin() resets the model somewhat similar to to loada(). But integrator settings are not affected by this. Hence, always use te.loada() for a hard reset!"
   ]
  },
  {
   "cell_type": "markdown",
   "metadata": {},
   "source": [
    "Use getIntegrator() to display the solver algorithm and solver settings."
   ]
  },
  {
   "cell_type": "code",
   "execution_count": null,
   "metadata": {
    "collapsed": false
   },
   "outputs": [],
   "source": []
  },
  {
   "cell_type": "markdown",
   "metadata": {},
   "source": [
    "Change the solver method from 'CVODE' to 'rk45' and print the settings again. \n",
    "You may notice the default parameters are solver specific.\n",
    "Use methods setIntegrator() and getIntegrator()."
   ]
  },
  {
   "cell_type": "code",
   "execution_count": null,
   "metadata": {
    "collapsed": false
   },
   "outputs": [],
   "source": []
  },
  {
   "cell_type": "markdown",
   "metadata": {},
   "source": [
    "For example, use 'CVODE' and plot the model trajectories for different values for the 'relative_tolerance'-parameter.\n",
    "\n",
    "Change the solver parameters via roadrunner.getIntegrator().setValue()."
   ]
  },
  {
   "cell_type": "code",
   "execution_count": null,
   "metadata": {
    "collapsed": false
   },
   "outputs": [],
   "source": []
  },
  {
   "cell_type": "markdown",
   "metadata": {},
   "source": [
    "## Steady-State Analysis"
   ]
  },
  {
   "cell_type": "code",
   "execution_count": null,
   "metadata": {
    "collapsed": false
   },
   "outputs": [],
   "source": []
  },
  {
   "cell_type": "markdown",
   "metadata": {},
   "source": [
    "## Control Analysis"
   ]
  },
  {
   "cell_type": "code",
   "execution_count": null,
   "metadata": {
    "collapsed": false
   },
   "outputs": [],
   "source": []
  },
  {
   "cell_type": "markdown",
   "metadata": {},
   "source": [
    "# Roadrunner and your model as an object in Python"
   ]
  },
  {
   "cell_type": "markdown",
   "metadata": {},
   "source": [
    "From loading a model with loada() an instance of roadrunner is generated.\n",
    "Additionally, the roadrunner object contains a the model as a python-object. \n",
    "Hence, there are i) specific methods for that .model object but also the content of the model can be manipulated.\n",
    "Try it out!"
   ]
  },
  {
   "cell_type": "code",
   "execution_count": null,
   "metadata": {
    "collapsed": false
   },
   "outputs": [],
   "source": []
  },
  {
   "cell_type": "markdown",
   "metadata": {},
   "source": [
    "## Example - Parameterscan:"
   ]
  },
  {
   "cell_type": "code",
   "execution_count": null,
   "metadata": {
    "collapsed": false
   },
   "outputs": [],
   "source": [
    "import matplotlib.pyplot as plt\n",
    "import numpy as np\n",
    "\n",
    "fig_phase = plt.figure(figsize=(5,5))\n",
    "\n",
    "rr = te.loada(Repressilator)\n",
    "for l,i in enumerate([1.0,1.7,3.0,10.]):\n",
    "    \n",
    "    fig_phase.add_subplot(2,2,l+1)\n",
    "    \n",
    "    # Fill reset and parameter update:\n",
    "\n",
    "    \n",
    "    result = rr.simulate(0,500,500,selections=['time','X','PX'])\n",
    "\n",
    "    plt.plot(result['X'],result['PX'],label='n = %s' %i)\n",
    "    \n",
    "    plt.xlabel('X')\n",
    "    plt.ylabel('PX')\n",
    "    plt.legend() \n",
    "\n",
    "plt.tight_layout()\n",
    "\n",
    "fig_timecourse= plt.figure(figsize=(5,5))\n",
    "\n",
    "rr = te.loada(Repressilator)\n",
    "for l,i in enumerate([1.0,1.7,3.0,10.]):\n",
    "    \n",
    "    # Fill reset and parameter update:\n",
    "\n",
    "    \n",
    "    result = rr.simulate(0,500,500,selections=['time','X','PX'])\n",
    "\n",
    "    plt.plot(result['time'],result['PX'],label='PX; n = %s' %i)\n",
    "    \n",
    "    plt.xlabel('time')\n",
    "    plt.ylabel('Species amounts')\n",
    "    plt.legend() \n",
    "    \n",
    "    \n",
    "    \n",
    "plt.tight_layout()"
   ]
  },
  {
   "cell_type": "markdown",
   "metadata": {},
   "source": [
    "## Example - (Initial value)-scan:\n"
   ]
  },
  {
   "cell_type": "code",
   "execution_count": null,
   "metadata": {
    "collapsed": false
   },
   "outputs": [],
   "source": [
    "import matplotlib.pyplot as plt\n",
    "import numpy as np\n",
    "\n",
    "rr = te.loada(Repressilator)\n",
    "print(rr.model.getFloatingSpeciesInitAmountIds())\n",
    "print(rr.model.getFloatingSpeciesInitAmounts())\n",
    "\n",
    "for l,i in enumerate([1,5,10,20]):\n",
    "    \n",
    "    # There are many possibilites to implement this:\n",
    "    # First - wrong  \n",
    "    #rr.Y=i\n",
    "\n",
    "    # Second - wrong\n",
    "    #rr.Y=i\n",
    "    #rr.reset()\n",
    "    \n",
    "    # Third - correct, but there are more possibilites...\n",
    "    # Fill reset and parameter update:\n",
    "\n",
    "      \n",
    "    \n",
    "   \n",
    "    result = rr.simulate(0,10,1000,selections=['Y','PY'])\n",
    "    \n",
    "    #plt.plot(result[:,0],result['PY'],label='n = %s' %i)\n",
    "    plt.plot(result['Y'],label='initial Y = %s' %i)\n",
    "    plt.xlabel('time')\n",
    "    plt.ylabel('Species in amounts')\n",
    "    plt.axhline(y=i,linestyle = ':',color='black')\n",
    "    plt.legend()\n",
    "    "
   ]
  },
  {
   "cell_type": "code",
   "execution_count": null,
   "metadata": {
    "collapsed": true
   },
   "outputs": [],
   "source": []
  }
 ],
 "metadata": {
  "kernelspec": {
   "display_name": "Python [py3]",
   "language": "python",
   "name": "Python [py3]"
  },
  "language_info": {
   "codemirror_mode": {
    "name": "ipython",
    "version": 3
   },
   "file_extension": ".py",
   "mimetype": "text/x-python",
   "name": "python",
   "nbconvert_exporter": "python",
   "pygments_lexer": "ipython3",
   "version": "3.6.4"
  }
 },
 "nbformat": 4,
 "nbformat_minor": 2
}
