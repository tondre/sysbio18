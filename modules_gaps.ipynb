{
 "cells": [
  {
   "cell_type": "markdown",
   "metadata": {},
   "source": [
    "## Advanced topic - Antimony modules!"
   ]
  },
  {
   "cell_type": "markdown",
   "metadata": {},
   "source": [
    "### A minimal example:"
   ]
  },
  {
   "cell_type": "code",
   "execution_count": null,
   "metadata": {
    "collapsed": false
   },
   "outputs": [],
   "source": [
    "import tellurium as te;\n",
    "#import tellurium as te; te.setDefaultPlottingEngine('matplotlib')\n",
    "#import matplotlib.pyplot as plt\n",
    "#%matplotlib inline\n",
    "\n",
    "class Diagram(te.visualization.SBMLDiagram):\n",
    "    def draw(self, layout='neato', file='graph.svg', **kwargs):\n",
    "        \"\"\" Draw the graph.\n",
    "        Optional layout=['neato'|'dot'|'twopi'|'circo'|'fdp'|'nop']\n",
    "        will use specified graphviz layout method.\n",
    "        :param layout: pygraphviz layout algorithm (default: 'neato')\n",
    "        :type layout: str\n",
    "        \"\"\"\n",
    "        self.g.write('test.dot')\n",
    "        self.g.layout(prog=layout)\n",
    "        self.g.draw(file)        \n",
    "        from IPython.display import SVG\n",
    "        return SVG(file)\n",
    "\n",
    "\n",
    "r = te.loada('example.antimony')\n",
    "diagram = Diagram(r.getSBML())\n",
    "diagram.draw()"
   ]
  },
  {
   "cell_type": "code",
   "execution_count": null,
   "metadata": {
    "collapsed": false
   },
   "outputs": [],
   "source": [
    "model_circle = '''\n",
    "import \"example.antimony\"\n",
    "\n",
    "model circle\n",
    "    A: example()\n",
    "    # Fill for B and C:\n",
    "\n",
    "    \n",
    "    X0: A.TOM1 -> B.TOM1;\n",
    "    # Fill for B and C:\n",
    "    \n",
    "end\n",
    "\n",
    "'''\n",
    "\n"
   ]
  },
  {
   "cell_type": "markdown",
   "metadata": {},
   "source": [
    "Print the flattened model as antimony:"
   ]
  },
  {
   "cell_type": "code",
   "execution_count": null,
   "metadata": {
    "collapsed": false
   },
   "outputs": [],
   "source": []
  },
  {
   "cell_type": "code",
   "execution_count": null,
   "metadata": {
    "collapsed": false
   },
   "outputs": [],
   "source": [
    "model_is = '''\n",
    "\n",
    "model simple\n",
    "    R: A -> B; 0.1;     \n",
    "end\n",
    "\n",
    "model reactions\n",
    "    X: simple();\n",
    "    Y: simple();\n",
    "    \n",
    "    # Fill 'is' command: \n",
    "       \n",
    "end    \n",
    "\n",
    "'''\n",
    "\n",
    "mapk = te.loada(model_is)\n",
    "print(mapk.getAntimony())\n",
    "diagram = Diagram(mapk.getSBML())\n",
    "\n",
    "diagram.draw(layout='dot')"
   ]
  },
  {
   "cell_type": "code",
   "execution_count": null,
   "metadata": {
    "collapsed": false
   },
   "outputs": [],
   "source": [
    "model_is = '''\n",
    "\n",
    "model simple\n",
    "    R: A -> B; 0.1;     \n",
    "end\n",
    "\n",
    "model reactions\n",
    "    X: simple();\n",
    "    Y: simple();\n",
    "    \n",
    "    # Fill: link both sub-modules with an additional reaction:\n",
    "        \n",
    "end    \n",
    "\n",
    "'''\n",
    "\n",
    "mapk = te.loada(model_is)\n",
    "print(mapk.getAntimony())\n",
    "diagram = Diagram(mapk.getSBML())\n",
    "\n",
    "diagram.draw(layout='dot')"
   ]
  },
  {
   "cell_type": "markdown",
   "metadata": {},
   "source": [
    "## Arrays of model instances?"
   ]
  },
  {
   "cell_type": "code",
   "execution_count": null,
   "metadata": {
    "collapsed": false
   },
   "outputs": [],
   "source": [
    "multi_comp = '''\n",
    "\n",
    "model cell\n",
    "#some stuff\n",
    "end\n",
    "\n",
    "model mitochondria\n",
    "#some stuff\n",
    "end\n",
    "\n",
    "model nucleus\n",
    "#some stuff\n",
    "end\n",
    "\n",
    "c0: cell();\n",
    "n0: nucleus();\n",
    "m0: mitchondria();\n",
    "m1: mitchondria();\n",
    "m2: mitchondria();\n",
    "m3: mitchondria();\n",
    "m4: mitchondria();\n",
    "m5: mitchondria();\n",
    "\n",
    "m1, m2, m3, m4, m5 in c0.cytosol;\n",
    "nucleus in c0.cytosol;\n",
    "\n",
    "'''"
   ]
  },
  {
   "cell_type": "markdown",
   "metadata": {},
   "source": [
    "Consider an antimony model 'multi_comp' within Python you could do this:"
   ]
  },
  {
   "cell_type": "code",
   "execution_count": null,
   "metadata": {
    "collapsed": true
   },
   "outputs": [],
   "source": []
  },
  {
   "cell_type": "code",
   "execution_count": null,
   "metadata": {
    "collapsed": false
   },
   "outputs": [],
   "source": []
  },
  {
   "cell_type": "markdown",
   "metadata": {},
   "source": [
    "## Deletions: delete species in submodels"
   ]
  },
  {
   "cell_type": "code",
   "execution_count": null,
   "metadata": {
    "collapsed": false
   },
   "outputs": [],
   "source": [
    "model_circle = '''\n",
    "import \"example.antimony\"\n",
    "\n",
    "model circle\n",
    "    A: example()\n",
    "    B: example()\n",
    "    C: example()\n",
    "    \n",
    "    X0: A.TOM1 -> B.TOM1;\n",
    "    X1: B.TOM1 -> C.TOM1;\n",
    "    X2: C.TOM1 ->  A.TOM1;\n",
    "    \n",
    "    \n",
    "    # Fill deleta a species:\n",
    "\n",
    "    \n",
    "end\n",
    "\n",
    "'''\n",
    "\n",
    "circle = te.loada(model_circle)\n",
    "print(circle.getAntimony())"
   ]
  },
  {
   "cell_type": "markdown",
   "metadata": {},
   "source": [
    "### Usually, deletion of a species is overkill. \n",
    "### Instead, overwrite assignments or kinetics!"
   ]
  },
  {
   "cell_type": "code",
   "execution_count": null,
   "metadata": {
    "collapsed": false
   },
   "outputs": [],
   "source": [
    "model_circle = '''\n",
    "import \"example.antimony\"\n",
    "\n",
    "model circle\n",
    "    A: example()\n",
    "    B: example()\n",
    "    C: example()\n",
    "    \n",
    "    X0: A.TOM1 -> B.TOM1;\n",
    "    X1: B.TOM1 -> C.TOM1;\n",
    "    X2: C.TOM1 ->  A.TOM1;\n",
    "        \n",
    "    # Assignment rule-> ODE:\n",
    "    C.kineticLaw := ;\n",
    "    C.kineticLaw '= 0.1;\n",
    "    C.kineticLaw = 0.1;\n",
    "    \n",
    "    # Fill overwrite/delete reaction:\n",
    "    \n",
    "    # Delete reaction:\n",
    "    \n",
    "    # Overwrite reaction\n",
    "\n",
    "end\n",
    "\n",
    "'''\n",
    "\n",
    "circle = te.loada(model_circle)\n",
    "print(circle.getAntimony())"
   ]
  }
 ],
 "metadata": {
  "kernelspec": {
   "display_name": "Python [py3]",
   "language": "python",
   "name": "Python [py3]"
  },
  "language_info": {
   "codemirror_mode": {
    "name": "ipython",
    "version": 3
   },
   "file_extension": ".py",
   "mimetype": "text/x-python",
   "name": "python",
   "nbconvert_exporter": "python",
   "pygments_lexer": "ipython3",
   "version": "3.6.4"
  }
 },
 "nbformat": 4,
 "nbformat_minor": 2
}
