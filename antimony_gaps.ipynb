{
 "cells": [
  {
   "cell_type": "markdown",
   "metadata": {},
   "source": [
    "# Tellurium Introduction:"
   ]
  },
  {
   "cell_type": "markdown",
   "metadata": {},
   "source": [
    "## Motivation ... a minimal example!\n",
    "Just a few lines of code are needed to load, simulate and plot a model!"
   ]
  },
  {
   "cell_type": "code",
   "execution_count": null,
   "metadata": {
    "collapsed": false
   },
   "outputs": [],
   "source": [
    "import tellurium as te; te.setDefaultPlottingEngine('matplotlib')\n",
    "%matplotlib inline\n",
    "\n",
    "antimony_model = '''J0: -> y; -x;J1: -> x; y;x = 1.0;y = 0.2;'''\n",
    "r = te.loada(antimony_model)\n",
    "r.simulate(0,100,1000)\n",
    "r.plot()"
   ]
  },
  {
   "cell_type": "markdown",
   "metadata": {},
   "source": [
    "## Everything in a single tool - *tellurium*:\n",
    "\n",
    "As you could see, *tellurium* allows you to create and manipulate a model in a pythonic way. The *tellurium* package consists of formerly two distinct packages: *antimony* which is a modeling-language and *roadrunner* a sbml-simulator. The main advantage of tellurium is how both work together in python: as soon as you load a model a roadrunner simulator will be instanciated simultaniously. This way your model and the solver are a python object - the *same* object!  This allows you to have real power over your model and the solver and control everything within your python script. \n",
    "\n",
    "For further reading:\n",
    "\n",
    "Full documentation\n",
    "http://tellurium.readthedocs.io/en/latest/index.html\n",
    "\n",
    "Short documentation\n",
    "http://tellurium.analogmachine.org/documentation/antimony-documentation\n",
    "\n",
    "Antimony (bio-)models library\n",
    "http://antimony.sourceforge.net/antimony-biomodels.html"
   ]
  },
  {
   "cell_type": "markdown",
   "metadata": {},
   "source": [
    "## Tutorial Part I - Create a Model :"
   ]
  },
  {
   "cell_type": "markdown",
   "metadata": {},
   "source": [
    "Let us start from scratch and define a new model (if you execute the next cell then tellurium tries to load your model and performs a basic syntax check at the same time!):"
   ]
  },
  {
   "cell_type": "code",
   "execution_count": null,
   "metadata": {
    "collapsed": true
   },
   "outputs": [],
   "source": [
    "import tellurium as te\n",
    "\n",
    "model = ''''''\n",
    "\n",
    "model_backup = '''\n",
    "model example\n",
    "    # UNITS:\n",
    "    #\n",
    "\n",
    "    #unit alienliters = 0.123 liters\n",
    "    #unit fL = 1.e-15 liters\n",
    "\n",
    "    # COMPARTMENTS:\n",
    "    #\n",
    "\n",
    "    compartment cell = 100;\n",
    "    compartment mitochondria = 10;\n",
    "    mitochondria in cell;\n",
    "\n",
    "    #mitochondria has fL;\n",
    "    #cell has fL;\n",
    "\n",
    "    # INITIAL VALUES\n",
    "    #\n",
    "\n",
    "    TOM1 = 10;\n",
    "    A_c = 100;\n",
    "    A_m = 1;\n",
    "    I = 1;\n",
    "\n",
    "    TOM1 in cell;\n",
    "    A_c in cell;\n",
    "    A_m in mitochondria;\n",
    "    I in cell;\n",
    "\n",
    "    # REACTIONS\n",
    "    #\n",
    "\n",
    "\n",
    "    T0: A_c + TOM1 -> 2 A_m + TOM1; kineticLaw;\n",
    "    kineticLaw := k1 * TOM1 * (A_c - A_m)/I\n",
    "\n",
    "    k1 = 0.01\n",
    "\n",
    "    # EVENTS:\n",
    "\n",
    "    #E1: at (A_c < 50): k1 = 0;\n",
    "    #E2: at (time>300): TOM1 = 20, A_c = 120;\n",
    "end\n",
    "\n",
    "'''\n",
    "\n",
    "r = te.loada(model)\n",
    "\n",
    "def aa(line, cell):\n",
    "    global model\n",
    "    #print line,cell\n",
    "    model = model + str(cell) + \"\\n\"\n",
    "    te.loada(str(model))\n",
    "get_ipython().register_magic_function(aa, \"cell\")     "
   ]
  },
  {
   "cell_type": "markdown",
   "metadata": {},
   "source": [
    "Antimony is a language that is analog to **SBML** Systems Biology Markup Language but human-readable. Therefore the concepts that are present in SBML can be found in antimony too. The definition of a **compartment** is such a SB concept!"
   ]
  },
  {
   "cell_type": "markdown",
   "metadata": {},
   "source": [
    "### Step 1: Define a compartment!"
   ]
  },
  {
   "cell_type": "code",
   "execution_count": null,
   "metadata": {
    "collapsed": true
   },
   "outputs": [],
   "source": [
    "%%aa # %%aa: A-ppend to A-ntimony model, only for educational purpose!\n"
   ]
  },
  {
   "cell_type": "markdown",
   "metadata": {},
   "source": [
    "Ok... But that's just boring. Let's define something truly special and add a second compartment which is located in your previous one:"
   ]
  },
  {
   "cell_type": "code",
   "execution_count": null,
   "metadata": {
    "collapsed": true
   },
   "outputs": [],
   "source": [
    "%%aa\n"
   ]
  },
  {
   "cell_type": "markdown",
   "metadata": {},
   "source": [
    "Awesome! But be aware... circular definitions are not allowed.\n",
    "Something like this won't work:\n",
    "\n",
    "> comp_a in comp_b; comp_b in comp_c; comp_c in comp_a;\n",
    "\n",
    "\n",
    "SBML has a system of unit definition. But the numbers we assigned to the compartments are without any specified unit at the moment. It is good practice to always use units and it is possible to define custom units!"
   ]
  },
  {
   "cell_type": "code",
   "execution_count": null,
   "metadata": {
    "collapsed": true
   },
   "outputs": [],
   "source": [
    "%%aa\n"
   ]
  },
  {
   "cell_type": "markdown",
   "metadata": {},
   "source": [
    "To specify units you can write the value and the unit combined in the same line:"
   ]
  },
  {
   "cell_type": "code",
   "execution_count": null,
   "metadata": {
    "collapsed": true
   },
   "outputs": [],
   "source": [
    "%%aa\n"
   ]
  },
  {
   "cell_type": "markdown",
   "metadata": {},
   "source": [
    "Or simply change the units:"
   ]
  },
  {
   "cell_type": "code",
   "execution_count": null,
   "metadata": {
    "collapsed": true
   },
   "outputs": [],
   "source": [
    "%%aa\n"
   ]
  },
  {
   "cell_type": "markdown",
   "metadata": {},
   "source": [
    "### Step 2: Define some species."
   ]
  },
  {
   "cell_type": "code",
   "execution_count": null,
   "metadata": {
    "collapsed": true
   },
   "outputs": [],
   "source": [
    "%%aa\n"
   ]
  },
  {
   "cell_type": "markdown",
   "metadata": {},
   "source": [
    "Smart! You already initialized your species. But you forgot to specify the location of your species! Add these lines:"
   ]
  },
  {
   "cell_type": "code",
   "execution_count": null,
   "metadata": {
    "collapsed": true
   },
   "outputs": [],
   "source": [
    "%%aa\n"
   ]
  },
  {
   "cell_type": "markdown",
   "metadata": {},
   "source": [
    "### Step 3: Define reactions."
   ]
  },
  {
   "cell_type": "code",
   "execution_count": null,
   "metadata": {
    "collapsed": true
   },
   "outputs": [],
   "source": [
    "%%aa\n"
   ]
  },
  {
   "cell_type": "markdown",
   "metadata": {},
   "source": [
    "### Syntax in antimony is subtile:"
   ]
  },
  {
   "cell_type": "markdown",
   "metadata": {},
   "source": [
    "#### There are 3 (+1) important bits in a reaction:\n",
    "\n",
    "0) The name of your reaction:\n",
    "        \n",
    "**name**: A + E -> B + 2C + E; kineticLaw;\n",
    "    \n",
    "    \n",
    "i) The direction '**->**' (sets the sign in an ODE in front the kineticLaw: plus or minus):\n",
    "        \n",
    "name: A + E **->** B + 2C + E; kineticLaw;\n",
    "    \n",
    "   \n",
    "ii) The stoichiometry:\n",
    "\n",
    "name: **A + E** -> **B + 2C + E**; kineticLaw;\n",
    "\n",
    "iii) The kinetic law:\n",
    "\n",
    "name: A + E -> B + 2C + E; **kineticLaw**;\n",
    "\n",
    "The kinetic law is always in units of *amount/time*! This way it is consistent with stochastic simulations (you can directly run the 'gillespie'-algorithm in tellurium's solver: roadrunner) and furthermore any considerations regarding compartment sizes (even time depending compartment changes or transport reactions) are automatically done by the solver to get the correct concentrations for your species."
   ]
  },
  {
   "cell_type": "markdown",
   "metadata": {},
   "source": [
    "### About Assignments and ODE's: "
   ]
  },
  {
   "cell_type": "markdown",
   "metadata": {},
   "source": [
    "This \" = \" is a simple assignment, basically an initialization:\n",
    "\n",
    "\n",
    "```\n",
    "parameter = 5\n",
    "species = 1\n",
    "species2 = species + parameter\n",
    "```\n",
    "\n",
    "This \" := \" is a time-dependend assignment, the variable at the left will adapt, if the right hand side changes:\n",
    "\n",
    "\n",
    "```\n",
    "species0 := 3 * time\n",
    "species1 := species0\n",
    "```\n",
    "\n",
    "This \" '= \" will create an ODE:\n",
    "\n",
    "```\n",
    "species'= k * species  \n",
    "```"
   ]
  },
  {
   "cell_type": "markdown",
   "metadata": {},
   "source": [
    "### Step 4: Events. "
   ]
  },
  {
   "cell_type": "markdown",
   "metadata": {},
   "source": [
    "You can define events, which may change values depending on boolean expressions..."
   ]
  },
  {
   "cell_type": "code",
   "execution_count": null,
   "metadata": {
    "collapsed": true
   },
   "outputs": [],
   "source": [
    "%%aa\n"
   ]
  },
  {
   "cell_type": "markdown",
   "metadata": {},
   "source": [
    "Or set a time dependend event. You may notice that *time* is special and the already predefined model time:"
   ]
  },
  {
   "cell_type": "code",
   "execution_count": null,
   "metadata": {
    "collapsed": true
   },
   "outputs": [],
   "source": [
    "%%aa\n"
   ]
  },
  {
   "cell_type": "markdown",
   "metadata": {},
   "source": [
    "Ok, now you may want to test your model and simulate it. You should definitly do this before we continue. Make sure that your model is correctly defined at the top of this jupyter notebook (you may execute the cell again!).\n",
    "Then you can run it:"
   ]
  },
  {
   "cell_type": "code",
   "execution_count": null,
   "metadata": {
    "collapsed": false
   },
   "outputs": [],
   "source": []
  },
  {
   "cell_type": "markdown",
   "metadata": {},
   "source": [
    "## Import/Export Models:"
   ]
  },
  {
   "cell_type": "markdown",
   "metadata": {},
   "source": [
    "First, we need the tellurium package:"
   ]
  },
  {
   "cell_type": "code",
   "execution_count": null,
   "metadata": {
    "collapsed": true
   },
   "outputs": [],
   "source": [
    "import tellurium as te"
   ]
  },
  {
   "cell_type": "markdown",
   "metadata": {},
   "source": [
    "#### Load a model... You can choose from:\n"
   ]
  },
  {
   "cell_type": "markdown",
   "metadata": {},
   "source": [
    "i) load a test model from tellurium itself."
   ]
  },
  {
   "cell_type": "code",
   "execution_count": null,
   "metadata": {
    "collapsed": false
   },
   "outputs": [],
   "source": []
  },
  {
   "cell_type": "code",
   "execution_count": null,
   "metadata": {
    "collapsed": false
   },
   "outputs": [],
   "source": []
  },
  {
   "cell_type": "markdown",
   "metadata": {},
   "source": [
    " ii) download 'curated BioModels translated to Antimony' from here http://antimony.sourceforge.net/antimony-biomodels.html:"
   ]
  },
  {
   "cell_type": "code",
   "execution_count": null,
   "metadata": {
    "collapsed": false
   },
   "outputs": [],
   "source": [
    "from urllib.request import urlopen\n",
    "bio1 = urlopen('http://antimony.sourceforge.net/examples/biomodels/BIOMD0000000001.txt').read().decode('utf-8')\n"
   ]
  },
  {
   "cell_type": "markdown",
   "metadata": {},
   "source": [
    "iii) load your own model:\n"
   ]
  },
  {
   "cell_type": "code",
   "execution_count": null,
   "metadata": {
    "collapsed": false
   },
   "outputs": [],
   "source": []
  },
  {
   "cell_type": "markdown",
   "metadata": {},
   "source": [
    "You can also convert models between modeling-languages:"
   ]
  },
  {
   "cell_type": "code",
   "execution_count": null,
   "metadata": {
    "collapsed": false
   },
   "outputs": [],
   "source": []
  },
  {
   "cell_type": "markdown",
   "metadata": {},
   "source": [
    "Then save the SBML model in a file:"
   ]
  },
  {
   "cell_type": "code",
   "execution_count": null,
   "metadata": {
    "collapsed": false
   },
   "outputs": [],
   "source": []
  },
  {
   "cell_type": "code",
   "execution_count": null,
   "metadata": {
    "collapsed": true
   },
   "outputs": [],
   "source": [
    "# directly for antimony:\n"
   ]
  },
  {
   "cell_type": "markdown",
   "metadata": {},
   "source": [
    "An read it again..."
   ]
  },
  {
   "cell_type": "code",
   "execution_count": null,
   "metadata": {
    "collapsed": true
   },
   "outputs": [],
   "source": []
  },
  {
   "cell_type": "code",
   "execution_count": null,
   "metadata": {
    "collapsed": true
   },
   "outputs": [],
   "source": []
  },
  {
   "cell_type": "markdown",
   "metadata": {},
   "source": [
    "You can also draw your model: "
   ]
  },
  {
   "cell_type": "code",
   "execution_count": null,
   "metadata": {
    "collapsed": false
   },
   "outputs": [],
   "source": [
    "class Diagram(te.visualization.SBMLDiagram):\n",
    "    def draw(self, layout='neato', file='graph.svg', **kwargs):\n",
    "        \"\"\" Draw the graph.\n",
    "        Optional layout=['neato'|'dot'|'twopi'|'circo'|'fdp'|'nop']\n",
    "        will use specified graphviz layout method.\n",
    "        :param layout: pygraphviz layout algorithm (default: 'neato')\n",
    "        :type layout: str\n",
    "        \"\"\"\n",
    "        self.g.write('test.dot')\n",
    "        self.g.layout(prog=layout)\n",
    "        self.g.draw(file)        \n",
    "        from IPython.display import SVG\n",
    "        return SVG(file)\n",
    "    \n"
   ]
  },
  {
   "cell_type": "markdown",
   "metadata": {},
   "source": [
    "## Defining functions in antimony "
   ]
  },
  {
   "cell_type": "code",
   "execution_count": null,
   "metadata": {
    "collapsed": false
   },
   "outputs": [],
   "source": [
    "model = '''\n",
    "\n",
    "function rhill(k,Km,I,n)\n",
    "    k * Km^n / (Km^n + I^n)\n",
    "end\n",
    "\n",
    "## complete for activator:\n",
    "\n",
    "model usingfunctions\n",
    "\n",
    "    X=0;\n",
    "    Y=10;\n",
    "    X'=ahill(0.3,1.2,Y,3)\n",
    "    Y'=-ahill(0.3,1.2,Y,3)\n",
    "\n",
    "end\n",
    "\n",
    "'''\n",
    "\n"
   ]
  },
  {
   "cell_type": "markdown",
   "metadata": {},
   "source": [
    "## Parameterscan"
   ]
  },
  {
   "cell_type": "markdown",
   "metadata": {},
   "source": [
    "### Important concept: Reset a model!"
   ]
  },
  {
   "cell_type": "markdown",
   "metadata": {},
   "source": [
    "> .reset() # reset species to initial values \n",
    "\n",
    "> .resetAll() # reset species + paramters\n",
    "\n",
    "> .resetToOrigin() # similar to load the model"
   ]
  },
  {
   "cell_type": "code",
   "execution_count": null,
   "metadata": {
    "collapsed": false
   },
   "outputs": [],
   "source": [
    "import numpy as np\n",
    "import matplotlib.pyplot as plt\n",
    "r = te.loada(model)\n",
    "\n",
    "fig = plt.figure(figsize=(10,10))\n",
    "for i in np.linspace(0.001,0.005,5):\n",
    "    \n",
    "    ### Fill reset() and set parameter: \n",
    "    \n",
    "        \n",
    "    #r.reset() # reset species to initial values\n",
    "    #r.resetAll() # reset species + paramters\n",
    "    #r.resetToOrigin() # similar to load the model\n",
    "    r.integrator='cvode'\n",
    "    result = r.simulate(0,1000)  \n",
    "    plt.plot(result[:,0],result[:,1:],label='k1=%s'%i)\n",
    "    \n",
    "plt.legend()\n",
    "plt.show()"
   ]
  },
  {
   "cell_type": "markdown",
   "metadata": {},
   "source": [
    "## Stochastic vs. deterministic"
   ]
  },
  {
   "cell_type": "code",
   "execution_count": null,
   "metadata": {
    "collapsed": false
   },
   "outputs": [],
   "source": [
    "r = te.loada(model_backup)\n",
    "\n",
    "    \n",
    "#plt.close()\n",
    "fig = plt.figure(figsize=(10,10))\n",
    "r.resetToOrigin()\n",
    "r.timeCourseSelections=['time','[A_c]']\n",
    "\n",
    "for i in range(10):\n",
    "    ### Fill reset() and choose solver:\n",
    "    \n",
    "    result = r.simulate(0,100,1000)\n",
    "    plt.plot(result[:,0],result[:,1:],color = 'lightblue',label='gillespie sim')\n",
    "    \n",
    "### Fill reset() and choose solver:\n",
    "\n",
    "\n",
    "result = r.simulate(0,100,1000)   \n",
    "plt.plot(result[:,0],result[:,1:],color = 'red',label='cvode sim')\n",
    "      \n",
    "plt.legend()\n",
    "plt.show()"
   ]
  },
  {
   "cell_type": "markdown",
   "metadata": {},
   "source": [
    "## Tellurium performs syntax checks. In contrast, the user should detect logic errors and inconsistencies:"
   ]
  },
  {
   "cell_type": "code",
   "execution_count": null,
   "metadata": {
    "collapsed": false
   },
   "outputs": [],
   "source": [
    "r = te.loada(model)\n",
    "#print r.getAntimony()\n",
    "\n",
    "model = '''\n",
    "// Created by libAntimony v2.9.4\n",
    "// Compartments and Species:\n",
    "compartment cell, mitochondria;\n",
    "species TOM1 in cell, A_c in cell, A_m in mitochondria;\n",
    "\n",
    "// Assignment Rules:\n",
    "kineticLaw := k1*TOM1*(A_c - (A_m + 0.01));\n",
    "\n",
    "// Reactions:\n",
    "T0: A_c + TOM1 -> A_m + TOM1; kineticLaw;\n",
    "\n",
    "// Events:\n",
    "E1: at A_c < 50: k1 = 0;\n",
    "E2: at time > 300: TOM1 = 20, A_c = 120;\n",
    "\n",
    "// Species initializations:\n",
    "TOM1 = 10;\n",
    "A_c = 100;\n",
    "A_m = 1;\n",
    "\n",
    "// Compartment initializations:\n",
    "cell = 100;\n",
    "mitochondria = 10;\n",
    "mitochondria has fL;\n",
    "\n",
    "// Variable initializations:\n",
    "k1 = 0.01;\n",
    "\n",
    "// Other declarations:\n",
    "var k1, kineticLaw;\n",
    "const cell, mitochondria;\n",
    "\n",
    "// Unit definitions:\n",
    "unit alienliter = 1.23e-1 litre;\n",
    "unit fL = 1e-15 litre;\n",
    "\n",
    "const A_c; \n",
    "'''\n",
    "r = te.loada(model)\n",
    "r.timeCourseSelections= ['time'] + ['['+ r.getBoundarySpeciesIds()[0]+ ']'] + r.getFloatingSpeciesIds()\n",
    "r.simulate(0,1000)\n",
    "r.plot()"
   ]
  }
 ],
 "metadata": {
  "kernelspec": {
   "display_name": "Python [py3]",
   "language": "python",
   "name": "Python [py3]"
  },
  "language_info": {
   "codemirror_mode": {
    "name": "ipython",
    "version": 3
   },
   "file_extension": ".py",
   "mimetype": "text/x-python",
   "name": "python",
   "nbconvert_exporter": "python",
   "pygments_lexer": "ipython3",
   "version": "3.6.4"
  }
 },
 "nbformat": 4,
 "nbformat_minor": 2
}
